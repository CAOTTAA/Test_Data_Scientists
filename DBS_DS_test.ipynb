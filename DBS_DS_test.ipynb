{
  "nbformat": 4,
  "nbformat_minor": 0,
  "metadata": {
    "colab": {
      "name": "DBS_DS_test.ipynb",
      "provenance": [],
      "collapsed_sections": []
    },
    "kernelspec": {
      "name": "python3",
      "display_name": "Python 3"
    },
    "language_info": {
      "name": "python"
    }
  },
  "cells": [
    {
      "cell_type": "markdown",
      "metadata": {
        "id": "yfz3LSr4Umyw"
      },
      "source": [
        "#Question 1\n",
        "The random variable X and Y have the following joint probability density\n",
        "\n",
        "$f_{XY}(x,y) = \\begin{cases}\n",
        "e^{-x-y}, & 0<x<\\infty,0<y<\\infty \\\\\n",
        "0,& elsewhere \\\\\n",
        "\\end{cases}$$\n",
        "$\n",
        "\n",
        "What is 𝑃 (𝑋 < 𝑌 )? "
      ]
    },
    {
      "cell_type": "markdown",
      "metadata": {
        "id": "h4eJUxOux0fX"
      },
      "source": [
        "##Solution:\n",
        "\n",
        "\\begin{align}\n",
        "P(X < Y) &= \\int_{0}^{\\infty}\\int_{0}^{y} e^{-x-y} \\,dxdy \\\\\n",
        "         &= \\int_{0}^{\\infty}e^{-y}\\int_{0}^{y} e^{-x} \\,dxdy \\\\\n",
        "         &= \\int_{0}^{\\infty}e^{-y} (1-e^{-y}) \\,dy \\\\\n",
        "         &= \\int_{0}^{\\infty}e^{-y} -e^{-2y} \\,dy \\\\\n",
        "         &= \\frac{1}{2} e^{-2y} - e^{-y}\\big|_{0}^{\\infty} \\\\\n",
        "         &= \\frac{1}{2}\n",
        "\\end{align}"
      ]
    },
    {
      "cell_type": "markdown",
      "metadata": {
        "id": "fCwkzhKrUtPC"
      },
      "source": [
        "#Question 2\n",
        "\n",
        "Counting the pairs with k different from an integer list \\\\\n",
        "eg: list = [1, 3,5] and k = 2 \\\\\n",
        "expected: we will have 2 pairs: {(1,3), (3,5)} \\\\\n",
        "Note: we also consider the negative numbers."
      ]
    },
    {
      "cell_type": "code",
      "metadata": {
        "id": "E5dPNQ91UxsT"
      },
      "source": [
        "def countPair(nums:list,k:int)->int:\n",
        "  num_dict = dict()\n",
        "  for num in nums:\n",
        "      if num in num_dict:\n",
        "          num_dict[num] += 1\n",
        "      else:\n",
        "          num_dict[num] = 1\n",
        "  \n",
        "  count = 0\n",
        "  if k == 0:\n",
        "      for key in num_dict:\n",
        "          if num_dict[key] > 1:\n",
        "              count += 1\n",
        "  else:\n",
        "      for key in num_dict:\n",
        "          if key+k in num_dict:\n",
        "              count += 1\n",
        "  \n",
        "  return count"
      ],
      "execution_count": 1,
      "outputs": []
    },
    {
      "cell_type": "code",
      "metadata": {
        "colab": {
          "base_uri": "https://localhost:8080/"
        },
        "id": "tDVOlhrHiowX",
        "outputId": "e1ac3ee0-201f-4e2f-aaf1-9e55755cffe3"
      },
      "source": [
        "nums = [-1,-2,3,4,1,5,7,-3]\n",
        "k = -4\n",
        "countPair(nums,k)"
      ],
      "execution_count": 2,
      "outputs": [
        {
          "output_type": "execute_result",
          "data": {
            "text/plain": [
              "4"
            ]
          },
          "metadata": {
            "tags": []
          },
          "execution_count": 2
        }
      ]
    },
    {
      "cell_type": "markdown",
      "metadata": {
        "id": "VE__UeZ5UxH2"
      },
      "source": [
        "#Question 3\n",
        "\n",
        "Return the list of indices. The indices is a sublist points to the same person. The same persons means they have the same name or email or phone.      \n",
        "\n",
        "\n",
        "eg:\n",
        "\n",
        "\n",
        "\n",
        "$$\n",
        "\\begin{align}\n",
        "data = [       &\\\\\n",
        "&(\"username1\",\"phone\\_number1\", \"email1\"), \\\\\n",
        "&(\"usernameX\",\"phone\\_number1\", \"emailX\"), \\\\\n",
        "&(\"usernameZ\",\"phone\\_numberZ\", \"emailZ\"), \\\\\n",
        "&(\"usernameY\",\"phone\\_numberY\", \"emailX\"),\\\\\n",
        "         ]\n",
        "\\end{align}\n",
        "$$\n",
        "\n",
        "\n",
        "expected: $[[0,1,3],[2]]$"
      ]
    },
    {
      "cell_type": "code",
      "metadata": {
        "id": "sVSg1Hv6U1ju"
      },
      "source": [
        "def findSamePerson(data):\n",
        "  import pandas as pd\n",
        "  import networkx as nx\n",
        "  from networkx.algorithms.components.connected import connected_components\n",
        "\n",
        "  #According to each column, find the index of same person\n",
        "  col=['UserName','PhoneNumber','Email']\n",
        "  df = pd.DataFrame(data,columns= col).reset_index()\n",
        "  samePerson = []\n",
        "  for colName in col:\n",
        "    samePerson.extend(df.groupby(colName)['index'].apply(list))\n",
        "\n",
        "  #Merge the lists with the same element\n",
        "  #Create a graph. Each record is a node, if 2 records have the same field, add an edge\n",
        "  G = nx.Graph()\n",
        "  G.add_nodes_from(range(len(data)))\n",
        "  for ele in samePerson:\n",
        "    nx.add_path(G,ele)\n",
        "\n",
        "  #Return the list of connected componets of the Graph\n",
        "  ret = []\n",
        "  for person in connected_components(G):\n",
        "    ret.append(list(person))\n",
        "  return ret\n"
      ],
      "execution_count": 3,
      "outputs": []
    },
    {
      "cell_type": "code",
      "metadata": {
        "colab": {
          "base_uri": "https://localhost:8080/"
        },
        "id": "HK-cj80VqLUP",
        "outputId": "5fd56e69-dbd2-4aa7-cc97-a7c68160c0fa"
      },
      "source": [
        "data = [    \n",
        "(\"username1\",\"phone_number1\", \"email1\"),\n",
        "(\"usernameX\",\"phone_number1\", \"emailX\"),\n",
        "(\"usernameZ\",\"phone_numberZ\", \"emailZ\"),\n",
        "(\"usernameY\",\"phone_numberY\", \"emailX\"),\n",
        "]\n",
        "\n",
        "findSamePerson(data)\n"
      ],
      "execution_count": 4,
      "outputs": [
        {
          "output_type": "execute_result",
          "data": {
            "text/plain": [
              "[[0, 1, 3], [2]]"
            ]
          },
          "metadata": {
            "tags": []
          },
          "execution_count": 4
        }
      ]
    },
    {
      "cell_type": "markdown",
      "metadata": {
        "id": "cvZhES0sU2AS"
      },
      "source": [
        "#Question 4\n",
        "\n",
        "Implement the Forward propagation & Backward propagation for a three layers Neural Network. X,W and b can be random."
      ]
    },
    {
      "cell_type": "markdown",
      "metadata": {
        "id": "x0QPQaK0fZ6I"
      },
      "source": [
        "##Solution:\n",
        "- Assume the Loss Function is \n",
        "\n",
        "  $ E = \\frac{1}{2}(y_{i} - \\hat{y_{i}})^2$, then\n",
        "  $\\frac{\\partial E}{\\partial\\hat{y_{i}}} = - y_{i} +\\hat{y_{i}}$.\n",
        "\n",
        "- Assume the activation function is the sigmoid function: \n",
        "\n",
        "  $\\hat{y_{i}} = \\sigma (z)$, then\n",
        "  $\\frac{\\partial\\hat{y_{i}}}{\\partial z} = \\sigma(z)*(1-\\sigma(z))$\n",
        "\n",
        "- Assume the integration function is the sum integration function: \n",
        "\n",
        "  $ z =w_0x_0+w_1x_1 +w_2x_2 + ...+w_nx_n$ where $w_0 = b$ and $x_0 = 1$,  then\n",
        "  $\\frac{\\partial z}{\\partial w_{i}} = x_i$"
      ]
    },
    {
      "cell_type": "markdown",
      "metadata": {
        "id": "UVhgwZ0bXl_D"
      },
      "source": [
        "### Update the parameters in Backpropagation :\n",
        "\n",
        "To update the parameters:\n",
        "\\begin{align}\n",
        "w_{t+1} = w_{t} - \\lambda\\frac{\\partial E}{\\partial w_{t}}\n",
        "\\end{align}\n",
        "\n",
        "Update parameters between hidden layer node $h_i$ and the output layer node $\\hat{y_i}$:\n",
        "\n",
        "\n",
        "\\begin{align}\n",
        "\\frac{\\partial E}{\\partial w_i^{(2)}}& = \\frac{\\partial E}{\\partial\\hat{y_{i}}}\n",
        "                                \\frac{\\partial\\hat{y_{i}}}{\\partial z_i^{(2)}}\n",
        "                               \\frac{\\partial z_i^{(2)}}{\\partial w_i^{(2)}} \\\\\n",
        "                                & = (\\hat{y_i} - y_i)\\sigma(z_i^{(2)})(1-\\sigma(z_i^{(2)}))h_i\n",
        "\\end{align}\n",
        "\n",
        "Update parameters between input layer node $x_i$ and the hidden layer node $h_i$:\n",
        "\n",
        "\n",
        "\\begin{align}\n",
        "\\frac{\\partial E}{\\partial w_i^{(1)}}& = \\frac{\\partial E}{\\partial\\hat{y_{i}}}\n",
        "                               \\frac{\\partial\\hat{y_{i}}}{\\partial z_i^{(2)}}\n",
        "                              \\frac{\\partial z_i^{(2)}}{\\partial h_i}\n",
        "                              \\frac {\\partial h_i}{\\partial z_i^{(1)}}\n",
        "                              \\frac{\\partial z_i^{(1)}}{\\partial w_i^{(1)}}\\\\\n",
        "            & = (\\hat{y_i} - y_i)\\sigma(z_i^{(2)})(1-\\sigma(z_i^{(2)}))w_i^{(2)}\\sigma(z_i^{(1)})(1-\\sigma(z_i^{(1)}))x_i\n",
        "\\end{align}\n",
        "\n"
      ]
    },
    {
      "cell_type": "code",
      "metadata": {
        "id": "UiDvrT1hWaPI"
      },
      "source": [
        "def sigmoid(X):\n",
        "  return 1/(1+np.exp(-X))\n",
        "\n",
        "def derivativeSigmoid(X):\n",
        "  return sigmoid(X) * (1-sigmoid(X))"
      ],
      "execution_count": 5,
      "outputs": []
    },
    {
      "cell_type": "code",
      "metadata": {
        "id": "IVMb96NAU4Rk"
      },
      "source": [
        "import numpy as np\n",
        "class threesLayerNN():\n",
        "  \"\"\"\n",
        "  Three Layers: input layer, hidden layer, output layer\n",
        "  For the hidden layer:\n",
        "    Assume the integration function = W.T * X + b \n",
        "    Assume the activation function = sigmoid\n",
        "  \"\"\"\n",
        "  def __init__(self,n_input:int,n_hidden:int,n_output:int, learning_rate:float):\n",
        "    self.n_input = n_input\n",
        "    self.n_hidden = n_hidden\n",
        "    self.n_output = n_output\n",
        "    self.inputs = np.zeros(n_input)\n",
        "    self.integrates_1 = np.zeros(n_hidden)\n",
        "    self.hiddens = np.zeros(n_hidden)\n",
        "    self.integrates_2 = np.zeros(n_output)\n",
        "    self.outputs = np.zeros(n_output)\n",
        "    self.coefficient_w = [np.random.rand(n_input+1,n_hidden),np.random.rand(n_hidden+1,n_output)]\n",
        "    self.lr = learning_rate\n",
        "    #self.intergate_func\n",
        "\n",
        "  def forwardPropagation(self,input_list):\n",
        "    if len(input_list) != self.n_input:\n",
        "      print('The number of input is %d, you are giving %d inputs.' %(self.n_input, len(input_list) ))\n",
        "      return\n",
        "    self.inputs = np.array(input_list)\n",
        "    self.integrates_1 = np.dot(self.coefficient_w[0].T,np.array([1]+list(self.inputs))) #shape = (n_hiddens,)\n",
        "    self.hiddens = sigmoid(self.integrates_1)\n",
        "    self.integrates_2 = np.dot(self.coefficient_w[1].T,np.array([1]+list(self.hiddens))) #shape = (n_outputs,)\n",
        "    self.outputs = sigmoid(self.integrates_2)\n",
        "    return self.outputs\n",
        "\n",
        "  def backwardPropagation(self,ground_truth):\n",
        "    if len(ground_truth) != self.n_output:\n",
        "      print('The number of outputs is %d, you are giving %d ground thruth.' %(self.n_output, len(ground_truth) ))\n",
        "      return\n",
        "    #loss = 0.5*(np.array(ground_truth) - self.outputs)**2\n",
        "    temp = (self.outputs - np.array(ground_truth)) * derivativeSigmoid(self.integrates_2) #(n_outputs,)\n",
        "\n",
        "    #Gradient of w between hidden layer and output\n",
        "    delta_w1 = np.matmul(np.array([1]+list(self.hiddens)).reshape((self.n_hidden+1,1)),temp.reshape((1,self.n_output)))\n",
        "    #print(delta_w1.shape)\n",
        "\n",
        "    #Gradient of w between input layer and hidden layer\n",
        "    a = np.dot(self.coefficient_w[1][1:],temp)*derivativeSigmoid(self.hiddens) #(n_hiddens,)\n",
        "    delta_w0 =np.matmul(np.array([1]+list(self.inputs)).reshape((self.n_input+1,1)), a.reshape((1,self.n_hidden)))\n",
        "    #print(delta_w0.shape)\n",
        "\n",
        "    self.coefficient_w[0] -= self.lr * delta_w0\n",
        "    self.coefficient_w[1] -= self.lr * delta_w1\n",
        "    return self.coefficient_w\n",
        "\n",
        "    \n",
        "    "
      ],
      "execution_count": 6,
      "outputs": []
    },
    {
      "cell_type": "code",
      "metadata": {
        "colab": {
          "base_uri": "https://localhost:8080/"
        },
        "id": "tVgC5ewoy8IL",
        "outputId": "e9b748e8-db0d-461b-e3f1-328750d9d476"
      },
      "source": [
        "t = threesLayerNN(2,4,3,0.5)\n",
        "for i in range(100):\n",
        "  t.forwardPropagation([1,2])\n",
        "  t.backwardPropagation([0.8,0.5,0.8])\n",
        "t.forwardPropagation([1,2])"
      ],
      "execution_count": 7,
      "outputs": [
        {
          "output_type": "execute_result",
          "data": {
            "text/plain": [
              "array([0.80032668, 0.5000088 , 0.80269432])"
            ]
          },
          "metadata": {
            "tags": []
          },
          "execution_count": 7
        }
      ]
    }
  ]
}